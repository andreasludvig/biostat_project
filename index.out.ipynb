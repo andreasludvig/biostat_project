{
 "cells": [
  {
   "cell_type": "markdown",
   "metadata": {},
   "source": [
    "# Biostat 2\n",
    "\n",
    "Andreas Svendsen [![](data:image/png;base64,iVBORw0KGgoAAAANSUhEUgAAABAAAAAQCAYAAAAf8/9hAAAAGXRFWHRTb2Z0d2FyZQBBZG9iZSBJbWFnZVJlYWR5ccllPAAAA2ZpVFh0WE1MOmNvbS5hZG9iZS54bXAAAAAAADw/eHBhY2tldCBiZWdpbj0i77u/IiBpZD0iVzVNME1wQ2VoaUh6cmVTek5UY3prYzlkIj8+IDx4OnhtcG1ldGEgeG1sbnM6eD0iYWRvYmU6bnM6bWV0YS8iIHg6eG1wdGs9IkFkb2JlIFhNUCBDb3JlIDUuMC1jMDYwIDYxLjEzNDc3NywgMjAxMC8wMi8xMi0xNzozMjowMCAgICAgICAgIj4gPHJkZjpSREYgeG1sbnM6cmRmPSJodHRwOi8vd3d3LnczLm9yZy8xOTk5LzAyLzIyLXJkZi1zeW50YXgtbnMjIj4gPHJkZjpEZXNjcmlwdGlvbiByZGY6YWJvdXQ9IiIgeG1sbnM6eG1wTU09Imh0dHA6Ly9ucy5hZG9iZS5jb20veGFwLzEuMC9tbS8iIHhtbG5zOnN0UmVmPSJodHRwOi8vbnMuYWRvYmUuY29tL3hhcC8xLjAvc1R5cGUvUmVzb3VyY2VSZWYjIiB4bWxuczp4bXA9Imh0dHA6Ly9ucy5hZG9iZS5jb20veGFwLzEuMC8iIHhtcE1NOk9yaWdpbmFsRG9jdW1lbnRJRD0ieG1wLmRpZDo1N0NEMjA4MDI1MjA2ODExOTk0QzkzNTEzRjZEQTg1NyIgeG1wTU06RG9jdW1lbnRJRD0ieG1wLmRpZDozM0NDOEJGNEZGNTcxMUUxODdBOEVCODg2RjdCQ0QwOSIgeG1wTU06SW5zdGFuY2VJRD0ieG1wLmlpZDozM0NDOEJGM0ZGNTcxMUUxODdBOEVCODg2RjdCQ0QwOSIgeG1wOkNyZWF0b3JUb29sPSJBZG9iZSBQaG90b3Nob3AgQ1M1IE1hY2ludG9zaCI+IDx4bXBNTTpEZXJpdmVkRnJvbSBzdFJlZjppbnN0YW5jZUlEPSJ4bXAuaWlkOkZDN0YxMTc0MDcyMDY4MTE5NUZFRDc5MUM2MUUwNEREIiBzdFJlZjpkb2N1bWVudElEPSJ4bXAuZGlkOjU3Q0QyMDgwMjUyMDY4MTE5OTRDOTM1MTNGNkRBODU3Ii8+IDwvcmRmOkRlc2NyaXB0aW9uPiA8L3JkZjpSREY+IDwveDp4bXBtZXRhPiA8P3hwYWNrZXQgZW5kPSJyIj8+84NovQAAAR1JREFUeNpiZEADy85ZJgCpeCB2QJM6AMQLo4yOL0AWZETSqACk1gOxAQN+cAGIA4EGPQBxmJA0nwdpjjQ8xqArmczw5tMHXAaALDgP1QMxAGqzAAPxQACqh4ER6uf5MBlkm0X4EGayMfMw/Pr7Bd2gRBZogMFBrv01hisv5jLsv9nLAPIOMnjy8RDDyYctyAbFM2EJbRQw+aAWw/LzVgx7b+cwCHKqMhjJFCBLOzAR6+lXX84xnHjYyqAo5IUizkRCwIENQQckGSDGY4TVgAPEaraQr2a4/24bSuoExcJCfAEJihXkWDj3ZAKy9EJGaEo8T0QSxkjSwORsCAuDQCD+QILmD1A9kECEZgxDaEZhICIzGcIyEyOl2RkgwAAhkmC+eAm0TAAAAABJRU5ErkJggg==)](https://orcid.org/0000-0001-8050-6447) (SDU)  \n",
    "December 11, 2023\n",
    "\n",
    "Testing if the GLM with a poisson distribution is suitable for differential gene expresseion analysis."
   ],
   "id": "458b609a-62c5-4364-8d8a-117ddcba36aa"
  },
  {
   "cell_type": "code",
   "execution_count": null,
   "metadata": {},
   "outputs": [],
   "source": [
    "library(kableExtra)\n",
    "library(limma)\n",
    "library(edgeR)\n",
    "library(data.table)\n",
    "library(ggplot2)"
   ],
   "id": "88f79bd0-d596-469f-ac23-60fdca712910"
  },
  {
   "cell_type": "markdown",
   "metadata": {},
   "source": [
    "## 1 Introduction\n",
    "\n",
    "Inflammation is a complex biological response that is pivotal in various pathological conditions. These range from systemic inflammatory diseases, such as rheumatoid arthritis and sepsis, to lower-grade chronic inflammatory states such as type 2 diabetes mellitus. Given the prevalence of systemic inflammation, understanding its interaction with drug metabolism is of substantial clinical relevance.\n",
    "\n",
    "Drug-metabolizing enzymes and transporters (DMETs), predominantly found in hepatocytes within the liver, are central to the biotransformation of a wide variety of compounds. Inflammation has been shown to modulate the activity of these DMETs, a phenomenon that could potentially affect the pharmacokinetics of numerous medications. For individuals with altered inflammatory status—whether due to a chronic condition like diabetes or an acute event like sepsis—this modulation can have significant implications. It may necessitate adjustments in drug dosages to avoid adverse effects or therapeutic failure.\n",
    "\n",
    "Previous research has provided valuable insights into the effects of inflammation on DMETs, but a clear correlation between in vitro studies and clinical observations remains elusive. For instance *Dunvald et al.* Dunvald et al. ([n.d.](#ref-dunvald)) conducted a comprehensive review of the clinical and in vitro evidence on inflammation-mediated modulation of DMETs and the impact on drug metabolism in humans. They found that in vitro studies in primary human hepatocytes revealed strong evidence of downregulation of key cytochrome P450 (CYP) enzymes by inflammatory cytokines such as IL-6 and IL-1β. However, these studies often employed supraphysiological cytokine doses, which may not accurately represent the inflammatory conditions observed in patients.\n",
    "\n",
    "Levels of IL-6 and IL-1B in healthy individuals are generally low, with reports ranging from undetectable to **XXX** in adults ([Kim et al. 2011](#ref-kim2011); [Kleiner et al. 2013](#ref-kleiner2013)). In contrast, cytokine levels may be considerably elevated with IL-6 levels of ZZZ among patients with rheumatoid arthritis (ref) to YYY for patients with acute inflammation caused by sepsis (ref). These variations in cytokine levels, which span a wide range in different pathological states, highlight the complex and dynamic nature of inflammation and underscore the need for research that considers this variability when investigating the effects of inflammation on drug-metabolizing enzymes.\n",
    "\n",
    "Recently, 3D primary human hepatocytes (PHH) have challenged 2D PHH as a more physiologically relevant culture method of PHH. 3D culture leads to more stable cell cultures that retain their hepatic phenotype for extended periods of time. Consequently, this 3D PHH have been shown to predict CYP induction and hepatotoxicity more accurately than 2D PHH (REFS). Historically, 2D PHH have been utilized to study the effect of inflammation Ingelman-Sundberg and Lauschke ([n.d.](#ref-ingelman-sundberg)) …Another claim for the lack of correlation discussed in the review by AC et al. is that there might be methodolocial limitiation to the widespread use of 2D models of PHHs.\n",
    "\n",
    "We aimed to utilize 3D primary human hepatocytes (REF, characterization article) to study the impact of physiologically relevant concentrations of cytokines on CYP expression and activity. This may help further our understanding of the impact of inflammation on clinical drug metabolism among patients with inflammation. This, in turn, may inform more precise and adaptive prescribing strategies for patients in various inflammatory states.\n",
    "\n",
    "As part of this project we wish to do a whole mRNA sequencing and differential gene expression analysis, too see which genes are up or down regulated, and subsequently do pathway analysis and gene set enrichment analysis. The first part of this sequencing analysis is the main concern of this assignment.\n",
    "\n",
    "## 2 Materials and Methods\n",
    "\n",
    "The data set consists of count data obtained from mRNA sequencing of primary human hepatocytes from a single donor. Of interest for this project there are five groups in total: one control and four treated with either 10 ng/ml or 0.1 ng/ml of IL-6 or IL-1B:\n",
    "\n",
    "• Vehicle control (no cytokine exposure)\n",
    "\n",
    "• IL-6 at 10 ng/ml\n",
    "\n",
    "• IL-6 at 0.1 ng/ml\n",
    "\n",
    "• IL-1B at 10 ng/ml\n",
    "\n",
    "• IL-1B at 0.1 ng/ml\n",
    "\n",
    "There are further samples in the data which are not directly related to this project.\n",
    "\n",
    "Each treatment and control group consists of duplicate samples, each sample originates from hepatocytes from 24 wells, with each well containing 1500 hepatocytes. Originating from one donor, these samples are pseudo-biological replicates, capturing intra-donor response variability and experimental nuances, such as differences in seeding, treatment application or other procedural variables, rather than genetic diversity/inter-individual biological variation. Although not optimal, this is exploratory data and while limiting the ability to generalize findings across a population, it allows for a nuanced understanding of cytokine effects at the individual level.\n",
    "\n",
    "Following cytokine treatment, total RNA was extracted from the hepatocytes and subjected to mRNA isolation to enrich for the coding transcripts. The mRNA was then sequenced using the Illumina NovaSeq 6000 system. Sequencing data were processed to generate .fastq files, and aligned to a reference human transcriptome. Quality controls were implemented to ensure data integrity.\n",
    "\n",
    "The primary output is a dataset of count data, specifically gene counts, which quantify the number of sequencing reads aligned to each gene, indicating gene expression levels. Accompanying this dataset are gene annotation and sample information files, which provide the foundation for the forthcoming differential gene expression analysis.\n",
    "\n",
    "**Purpose of analysis**\n",
    "\n",
    "The overarching aim of this analysis is to discern the differential gene expression profiles in primary human hepatocytes under the influence of inflammatory cytokines, specifically IL-6 and IL-1B. By comparing gene expression levels between cytokine-treated and control samples, we seek to:\n",
    "\n",
    "1.  Identify the genes that are significantly upregulated or downregulated in response to each cytokine, with an emphasis on drug metabolizing enzymes. This will allow us to compare mRNA sequencing data with qPCR data for these enzymes, providing a validation layer to the findings.\n",
    "\n",
    "2.  Use the output of the differential gene expression analysis to, later on, conduct pathway analysis and gene set enrichment analysis to better understand the broader biological processes that are impacted by cytokine exposure.\n",
    "\n",
    "3.  Determine whether IL-6 and IL-1B share common pathways in altering gene expression or if they act on distinct sets of genes.This might shed light on the intricacies of inflammatory responses at the molecular level.\n",
    "\n",
    "4.  The response variable in this study is the expression level of each after treatment with cytokines relative to the expression of the controls. The hypothesis is that exposure to IL-6 and IL-1B will result in a downregulation of drug metabolizing enzymes, reflecting the inhibitory nature of inflammation on hepatic drug metabolism.\n",
    "\n",
    "## 3 Statistical methods and results\n",
    "\n",
    "All data and statistical analysis is available at: <https://github.com/andreasludvig/biostat_project>\n",
    "\n",
    "As the main part of this project i will use a generalized linear model with a poisson distribution and log link to investigate if any CYP enzymes are statistically differentiated expressed in the genes that are treated with cytokines as compared to vehicle control.\n",
    "\n",
    "### 3.1 Exploratory data analysis.\n",
    "\n",
    "#### 3.1.1 Data content\n",
    "\n",
    "The matrix of gene counts, gene annotation file and sample information file are loaded, tidied and saved as an DGE_object (basically just a list). Code in `notebooks/00-load_data.qmd`. First lines and structure of each element of this DGE list:"
   ],
   "id": "c51a2a9a-8747-4aab-bdb0-1f689abe3020"
  },
  {
   "cell_type": "code",
   "execution_count": null,
   "metadata": {},
   "outputs": [],
   "source": [
    "dge_data <- readRDS(\"notebooks/outputs/data_processed/dge_data.rds\")"
   ],
   "id": "f2f0f4fb-2beb-4504-9a79-ee1f9b6981b2"
  },
  {
   "cell_type": "markdown",
   "metadata": {},
   "source": [
    "**Count matrix**: Each column is a sample and each row is a gene with the count for each sample"
   ],
   "id": "2462fce6-9b39-49c3-830e-bcd6e876b548"
  },
  {
   "cell_type": "code",
   "execution_count": null,
   "metadata": {},
   "outputs": [
    {
     "output_type": "stream",
     "name": "stdout",
     "text": [
      "    S1   S2   S5   S6   S7   S8  S11  S12  S13  S14  S15  S16 S17  S18  S19\n",
      "1 1327 1322 1105 2569 2696 1513 1597 1107 1681 1751 1709 1447 944 1324 3266\n",
      "2    0    0    0    2    0    2    0    0    1    0    0    0   1    0    8\n",
      "3  545  607  478 1041  694  480  644  530  620  583  866  933 569  843 1509\n",
      "4  414  482  351  778  786  529  443  429  689  684  544  544 190  411  820\n",
      "5   73   49   42  117  116   83   73   53   79  118   84   93  34   65  108\n",
      "6  163  190  123  295  188  131  152  126  258  200  154  183  61   98  403\n",
      "   S20\n",
      "1 1193\n",
      "2    1\n",
      "3  587\n",
      "4  293\n",
      "5   55\n",
      "6   90"
     ]
    }
   ],
   "source": [
    "# View the counts matrix\n",
    "head(dge_data$counts)"
   ],
   "id": "780f4771-a6eb-45c7-9a3e-884f259c80cd"
  },
  {
   "cell_type": "markdown",
   "metadata": {},
   "source": [
    "**Sample info:** A dataframe with information on samples"
   ],
   "id": "38e65a1d-3ed5-4cce-857c-1b577b4e9f0d"
  },
  {
   "cell_type": "code",
   "execution_count": null,
   "metadata": {},
   "outputs": [
    {
     "output_type": "stream",
     "name": "stdout",
     "text": [
      "   group lib.size norm.factors       treatment sample_name replicate\n",
      "S1     1 27936538            1 Vehicle_control    AS0018_1         1\n",
      "S2     1 30783447            1 Vehicle_control    AS0018_2         2\n",
      "S5     2 23849669            1   01_ng_ml_IL_6    AS0018_5         1\n",
      "S6     2 50753398            1   01_ng_ml_IL_6    AS0018_6         2\n",
      "S7     3 43975254            1   10_ng_ml_IL_6    AS0018_7         1\n",
      "S8     3 28500067            1   10_ng_ml_IL_6    AS0018_8         2\n",
      "   group_color\n",
      "S1     #000000\n",
      "S2     #000000\n",
      "S5     #A6CEE3\n",
      "S6     #A6CEE3\n",
      "S7     #1F78B4\n",
      "S8     #1F78B4"
     ]
    }
   ],
   "source": [
    "head(dge_data$samples)"
   ],
   "id": "1cd0fb09-01c0-4bcb-99a5-3fec5cd63a2b"
  },
  {
   "cell_type": "markdown",
   "metadata": {},
   "source": [
    "**Gene annotation:** File of gene names and symbols, matching the rows in the count matrix"
   ],
   "id": "d1c464aa-0e6b-44e4-bd5b-d2a85f35822e"
  },
  {
   "cell_type": "code",
   "execution_count": null,
   "metadata": {},
   "outputs": [
    {
     "output_type": "stream",
     "name": "stdout",
     "text": [
      "      ENSEMBLE_ID   symbol                id_symbol\n",
      "1 ENSG00000000003   TSPAN6   ENSG00000000003;TSPAN6\n",
      "2 ENSG00000000005     TNMD     ENSG00000000005;TNMD\n",
      "3 ENSG00000000419     DPM1     ENSG00000000419;DPM1\n",
      "4 ENSG00000000457    SCYL3    ENSG00000000457;SCYL3\n",
      "5 ENSG00000000460 C1orf112 ENSG00000000460;C1orf112\n",
      "6 ENSG00000000938      FGR      ENSG00000000938;FGR"
     ]
    }
   ],
   "source": [
    "head(dge_data$genes)"
   ],
   "id": "58629dc9-c34f-4547-88d1-abce4510985f"
  },
  {
   "cell_type": "markdown",
   "metadata": {},
   "source": [
    "#### 3.1.2 Basic summary statistics and visualization\n",
    "\n",
    "``` python\n",
    "raw_summary_statistics <- summary(dge_data$counts)\n",
    "\n",
    "raw_summary_statistics |> kbl(format = \"simple\")\n",
    "```\n",
    "\n",
    "|     |       S1        |       S2        |       S5        |      S6       |       S7        |       S8        |       S11       |      S12      |       S13       |       S14       |       S15       |      S16      |      S17       |       S18       |      S19      |       S20       |\n",
    "|-----|:---------------:|:---------------:|:---------------:|:-------------:|:---------------:|:---------------:|:---------------:|:-------------:|:---------------:|:---------------:|:---------------:|:-------------:|:--------------:|:---------------:|:-------------:|:---------------:|\n",
    "|     |   Min. : 0.0    |   Min. : 0.0    |   Min. : 0.0    |   Min. : 0    |   Min. : 0.0    |   Min. : 0.0    |   Min. : 0.0    |   Min. : 0    |   Min. : 0.0    |   Min. : 0.0    |   Min. : 0.0    |   Min. : 0    |   Min. : 0.0   |   Min. : 0.0    |   Min. : 0    |   Min. : 0.0    |\n",
    "|     |  1st Qu.: 0.0   |  1st Qu.: 0.0   |  1st Qu.: 0.0   |  1st Qu.: 0   |  1st Qu.: 0.0   |  1st Qu.: 0.0   |  1st Qu.: 0.0   |  1st Qu.: 0   |  1st Qu.: 0.0   |  1st Qu.: 0.0   |  1st Qu.: 0.0   |  1st Qu.: 0   |  1st Qu.: 0.0  |  1st Qu.: 0.0   |  1st Qu.: 0   |  1st Qu.: 0.0   |\n",
    "|     |  Median : 0.0   |  Median : 0.0   |  Median : 0.0   |  Median : 0   |  Median : 0.0   |  Median : 0.0   |  Median : 0.0   |  Median : 0   |  Median : 0.0   |  Median : 0.0   |  Median : 0.0   |  Median : 0   |  Median : 0.0  |  Median : 0.0   |  Median : 0   |  Median : 0.0   |\n",
    "|     |  Mean : 445.5   |  Mean : 490.9   |  Mean : 380.3   |  Mean : 809   |  Mean : 701.2   |  Mean : 454.5   |  Mean : 485.1   |  Mean : 376   |  Mean : 552.4   |  Mean : 539.8   |  Mean : 589.6   |  Mean : 606   |  Mean : 345.7  |  Mean : 470.2   |  Mean : 963   |  Mean : 364.1   |\n",
    "|     |  3rd Qu.: 6.0   |  3rd Qu.: 7.0   |  3rd Qu.: 5.0   |  3rd Qu.: 11  |  3rd Qu.: 8.0   |  3rd Qu.: 5.0   |  3rd Qu.: 7.0   |  3rd Qu.: 6   |  3rd Qu.: 8.0   |  3rd Qu.: 8.0   |  3rd Qu.: 8.0   |  3rd Qu.: 8   |  3rd Qu.: 5.0  |  3rd Qu.: 6.0   |  3rd Qu.: 14  |  3rd Qu.: 6.0   |\n",
    "|     | Max. :2538985.0 | Max. :2704036.0 | Max. :2141005.0 | Max. :4703701 | Max. :1749370.0 | Max. :1070663.0 | Max. :2310630.0 | Max. :1712257 | Max. :1676606.0 | Max. :1475056.0 | Max. :2717621.0 | Max. :2757600 | Max. :934710.0 | Max. :1271255.0 | Max. :5309784 | Max. :1956794.0 |\n",
    "\n",
    "Table 1: Raw summary statistics\n",
    "\n",
    "From the raw summary statistics in <a href=\"#tbl-raw-sum-stats\" class=\"quarto-xref\">Table 1</a> we note that the data is heavily **zero-inflated**, as a significant portion of the counts are zero across all samples. This is not uncommon in RNA-seq data. Probably also very likely since we have just one cell type and are aligning with the entire human transcriptome. The maximum counts are substantially higher than the 75th percentile, indicating the presence of **outliers or highly expressed genes**. The data is heavily **skewed**, with mean values much higher than the median (50th percentile), which is zero in most cases.\n",
    "\n",
    "``` python\n",
    "# In ggplot:\n",
    "# Convert the matrix to a long-form data.frame for ggplot\n",
    "expression_long <- as.data.frame(as.table(dge_data$counts))\n",
    "# Create the boxplot using ggplot2\n",
    "boxplot_raw_counts <- ggplot(expression_long, aes(x=Var2, y=Freq)) +\n",
    "  geom_boxplot() +\n",
    "  theme(axis.text.x = element_text(angle = 90, hjust = 1)) +\n",
    "  labs(x = \"Samples\", y = \"Expression Count\") +\n",
    "  ggtitle(\"Distribution of Gene Expression Counts Across Samples\")\n",
    " \n",
    "\n",
    "boxplot_raw_counts\n",
    "```\n",
    "\n",
    "<figure id=\"fig-boxplot-counts\">\n",
    "<img src=\"attachment:index_files/figure-ipynb/notebooks-01-exploratory_data_analysis-fig-boxplot-counts-output-1.png\" />\n",
    "<figcaption>Figure 1: Note there are &gt; 60 000 genes/sample, and these are boxplots</figcaption>\n",
    "</figure>\n",
    "\n",
    "This can also be visualized in a boxplot in <a href=\"#fig-boxplot-counts\" class=\"quarto-xref\">Figure 1</a>\n",
    "\n",
    "### 3.2 Filter and normalize the data\n",
    "\n",
    "Code for filtering and normalization is in the `notebooks/02-filter_normalize.qmd` script.\n",
    "\n",
    "We are filtering genes with less than one count per million (CPM). After filtering low count genes we have filtered out 49098 genes and are left with 13612 genes, and after removal of duplicates we are left with 13610 genes.\n",
    "\n",
    "### 3.3 Unsupervised data visualization\n",
    "\n",
    "### 3.4 Differential gene expression analysis\n",
    "\n",
    "For this project, we will fit a Generalized Linear Model (GLM) using the Poisson distribution with a log link function. Our primary interest lies in comparing treated vs. untreated samples, regardless of the concentration. This approach is chosen over a more nuanced model incorporating concentrations as a continuous variable due to the limited variation in concentrations (only two per treatment), which might not provide robust estimations in a continuous model.\n",
    "\n",
    "The model we will use is:\n",
    "\n",
    "$log(\\lambda) = \\alpha + \\beta_1*x_1$ ,\n",
    "\n",
    "where $\\lambda$ represents the expected count, $\\alpha$ is the baseline rate of counts for the untreated group, and $\\beta_1$ is the rate ratio for the treatment effect. In this model, $x_1$ is a binary indicator for treatment, with 0 indicating control (untreated) and 1 indicating treated samples.\n",
    "\n",
    "This formual also translates to log(rate) = baselinerate/unexposed_rate \\* exposure_rate_ratio\n",
    "\n",
    "Poisson regression is appropriate for modeling count data where the dependent variable is assumed to follow a Poisson distribution. This model assumes that the logarithm of the expected count is linearly related to the independent variables. A critical assumption of the Poisson model is that the mean equals the variance, a condition often violated in RNA-seq data due to overdispersion. Therefore, this analysis serves as an initial step, and more sophisticated models may be required for a complete understanding of the dataset."
   ],
   "attachments": {
    "index_files/figure-ipynb/notebooks-01-exploratory_data_analysis-fig-boxplot-counts-output-1.png": {
     "image/png": "[encoded data removed]"
    }
   },
   "id": "ace7c141-66e4-4daa-bc33-167a8f7e8f6b"
  },
  {
   "cell_type": "code",
   "execution_count": null,
   "metadata": {},
   "outputs": [],
   "source": [
    "dge_data_norm <- readRDS(\"notebooks/outputs/data_processed/dge_data_norm.rds\")\n",
    "\n",
    "\n",
    "keep_indices <- grep(\"^CYP\", dge_data_norm$genes$symbol)\n",
    "\n",
    "cyp_data <- dge_data_norm[keep_indices, keep.lib.sizes = FALSE]\n",
    "\n",
    "\n",
    "# cyp_data is the subset of genes we want to investigate\n",
    "counts <- cyp_data$counts\n",
    "genes <- rownames(counts)\n",
    "samples <- colnames(counts)\n",
    "\n",
    "# Creating a long-format data frame\n",
    "data_long <- data.frame(gene = rep(genes, each = length(samples)),\n",
    "                        sample = rep(samples, times = length(genes)),\n",
    "                        count = as.vector(counts),\n",
    "                        treatment = cyp_data$samples$treatment)\n",
    "\n",
    "# Select the first gene\n",
    "first_gene <- unique(data_long$gene)[1]\n",
    "first_gene_data <- subset(data_long, gene == first_gene)\n",
    "\n",
    "# For each cytokine treatment, create a binary variable that is 1 for that specific cytokine treatment and 0 for the vehicle control.\n",
    "\n",
    "first_gene_data$treatment_IL_6_01_ng_ml <- as.numeric(first_gene_data$treatment == \"01_ng_ml_IL_6\")\n",
    "first_gene_data$treatment_IL_6_10_ng_ml <- as.numeric(first_gene_data$treatment == \"10_ng_ml_IL_6\")\n",
    "first_gene_data$treatment_IL_1B_01_ng_ml <- as.numeric(first_gene_data$treatment == \"01_ng_ml_IL_1B\")\n",
    "first_gene_data$treatment_IL_1B_10_ng_ml <- as.numeric(first_gene_data$treatment == \"10_ng_ml_IL_1B\")"
   ],
   "id": "40d82e8e-d449-453d-badb-61c418bb4354"
  },
  {
   "cell_type": "code",
   "execution_count": null,
   "metadata": {},
   "outputs": [
    {
     "output_type": "stream",
     "name": "stdout",
     "text": [
      "\n",
      "Call:\n",
      "glm(formula = count ~ treatment_IL_6_01_ng_ml, family = poisson(), \n",
      "    data = first_gene_data)\n",
      "\n",
      "Coefficients:\n",
      "                         Estimate Std. Error z value Pr(>|z|)    \n",
      "(Intercept)             10.669258   0.001289    8279   <2e-16 ***\n",
      "treatment_IL_6_01_ng_ml  0.767586   0.002656     289   <2e-16 ***\n",
      "---\n",
      "Signif. codes:  0 '***' 0.001 '**' 0.01 '*' 0.05 '.' 0.1 ' ' 1\n",
      "\n",
      "(Dispersion parameter for poisson family taken to be 1)\n",
      "\n",
      "    Null deviance: 1016536  on 15  degrees of freedom\n",
      "Residual deviance:  944330  on 14  degrees of freedom\n",
      "AIC: 944524\n",
      "\n",
      "Number of Fisher Scoring iterations: 6"
     ]
    },
    {
     "output_type": "stream",
     "name": "stdout",
     "text": [
      "\n",
      "Call:\n",
      "glm(formula = count ~ treatment_IL_6_10_ng_ml, family = poisson(), \n",
      "    data = first_gene_data)\n",
      "\n",
      "Coefficients:\n",
      "                         Estimate Std. Error z value Pr(>|z|)    \n",
      "(Intercept)             10.835898   0.001186 9139.33   <2e-16 ***\n",
      "treatment_IL_6_10_ng_ml -0.288519   0.003813  -75.67   <2e-16 ***\n",
      "---\n",
      "Signif. codes:  0 '***' 0.001 '**' 0.01 '*' 0.05 '.' 0.1 ' ' 1\n",
      "\n",
      "(Dispersion parameter for poisson family taken to be 1)\n",
      "\n",
      "    Null deviance: 1016536  on 15  degrees of freedom\n",
      "Residual deviance: 1010347  on 14  degrees of freedom\n",
      "AIC: 1010541\n",
      "\n",
      "Number of Fisher Scoring iterations: 6"
     ]
    },
    {
     "output_type": "stream",
     "name": "stdout",
     "text": [
      "\n",
      "Call:\n",
      "glm(formula = count ~ treatment_IL_1B_01_ng_ml, family = poisson(), \n",
      "    data = first_gene_data)\n",
      "\n",
      "Coefficients:\n",
      "                          Estimate Std. Error z value Pr(>|z|)    \n",
      "(Intercept)              10.878530   0.001161  9373.5   <2e-16 ***\n",
      "treatment_IL_1B_01_ng_ml -0.853444   0.004846  -176.1   <2e-16 ***\n",
      "---\n",
      "Signif. codes:  0 '***' 0.001 '**' 0.01 '*' 0.05 '.' 0.1 ' ' 1\n",
      "\n",
      "(Dispersion parameter for poisson family taken to be 1)\n",
      "\n",
      "    Null deviance: 1016536  on 15  degrees of freedom\n",
      "Residual deviance:  976359  on 14  degrees of freedom\n",
      "AIC: 976553\n",
      "\n",
      "Number of Fisher Scoring iterations: 5"
     ]
    },
    {
     "output_type": "stream",
     "name": "stdout",
     "text": [
      "\n",
      "Call:\n",
      "glm(formula = count ~ treatment_IL_1B_10_ng_ml, family = poisson(), \n",
      "    data = first_gene_data)\n",
      "\n",
      "Coefficients:\n",
      "                          Estimate Std. Error z value Pr(>|z|)    \n",
      "(Intercept)              10.883578   0.001158  9401.5   <2e-16 ***\n",
      "treatment_IL_1B_10_ng_ml -0.945326   0.005048  -187.3   <2e-16 ***\n",
      "---\n",
      "Signif. codes:  0 '***' 0.001 '**' 0.01 '*' 0.05 '.' 0.1 ' ' 1\n",
      "\n",
      "(Dispersion parameter for poisson family taken to be 1)\n",
      "\n",
      "    Null deviance: 1016536  on 15  degrees of freedom\n",
      "Residual deviance:  969605  on 14  degrees of freedom\n",
      "AIC: 969800\n",
      "\n",
      "Number of Fisher Scoring iterations: 5"
     ]
    }
   ],
   "source": [
    "# Poisson models for each cytokine treatment\n",
    "poisson_model_IL_6_01_ng_ml <- glm(count ~ treatment_IL_6_01_ng_ml, family = poisson(), data = first_gene_data)\n",
    "poisson_model_IL_6_10_ng_ml <- glm(count ~ treatment_IL_6_10_ng_ml, family = poisson(), data = first_gene_data)\n",
    "poisson_model_IL_1B_01_ng_ml <- glm(count ~ treatment_IL_1B_01_ng_ml, family = poisson(), data = first_gene_data)\n",
    "poisson_model_IL_1B_10_ng_ml <- glm(count ~ treatment_IL_1B_10_ng_ml, family = poisson(), data = first_gene_data)\n",
    "\n",
    "summary(poisson_model_IL_6_01_ng_ml)"
   ],
   "id": "fe594bef-1095-4633-abce-61ba0cf8cee7"
  },
  {
   "cell_type": "code",
   "execution_count": null,
   "metadata": {},
   "outputs": [
    {
     "output_type": "stream",
     "name": "stdout",
     "text": [
      "       Treatment Log_Expected_Count_Intercept Coefficient P_Value\n",
      "1  IL-6 01 ng/ml                     10.66926   0.7675856       0\n",
      "2  IL-6 10 ng/ml                     10.83590  -0.2885188       0\n",
      "3 IL-1B 01 ng/ml                     10.87853  -0.8534440       0\n",
      "4 IL-1B 10 ng/ml                     10.88358  -0.9453265       0\n",
      "  Expected_Count Fold_Change\n",
      "1       43013.00   2.1545579\n",
      "2       50812.50   0.7493727\n",
      "3       53025.57   0.4259454\n",
      "4       53293.93   0.3885527"
     ]
    }
   ],
   "source": [
    "# Creating a summary data frame\n",
    "summary_data <- \n",
    "  data.frame(\n",
    "    Treatment = \n",
    "      c(\"IL-6 01 ng/ml\", \"IL-6 10 ng/ml\", \"IL-1B 01 ng/ml\", \"IL-1B 10 ng/ml\"\n",
    "        ),\n",
    "    Log_Expected_Count_Intercept = \n",
    "      c(coef(poisson_model_IL_6_01_ng_ml)[\"(Intercept)\"],\n",
    "        coef(poisson_model_IL_6_10_ng_ml)[\"(Intercept)\"],\n",
    "        coef(poisson_model_IL_1B_01_ng_ml)[\"(Intercept)\"],\n",
    "        coef(poisson_model_IL_1B_10_ng_ml)[\"(Intercept)\"]\n",
    "        ),\n",
    "    Coefficient = \n",
    "      c(coef(poisson_model_IL_6_01_ng_ml)[\"treatment_IL_6_01_ng_ml\"],\n",
    "        coef(poisson_model_IL_6_10_ng_ml)[\"treatment_IL_6_10_ng_ml\"],\n",
    "        coef(poisson_model_IL_1B_01_ng_ml)[\"treatment_IL_1B_01_ng_ml\"],\n",
    "        coef(poisson_model_IL_1B_10_ng_ml)[\"treatment_IL_1B_10_ng_ml\"]),\n",
    "    P_Value = c(summary(poisson_model_IL_6_01_ng_ml)$coefficients[\"treatment_IL_6_01_ng_ml\", \"Pr(>|z|)\"],\n",
    "                summary(poisson_model_IL_6_10_ng_ml)$coefficients[\"treatment_IL_6_10_ng_ml\", \"Pr(>|z|)\"],\n",
    "                summary(poisson_model_IL_1B_01_ng_ml)$coefficients[\"treatment_IL_1B_01_ng_ml\", \"Pr(>|z|)\"],\n",
    "                summary(poisson_model_IL_1B_10_ng_ml)$coefficients[\"treatment_IL_1B_10_ng_ml\", \"Pr(>|z|)\"]\n",
    "                )\n",
    ")\n",
    "\n",
    "# Calculating actual expected counts and fold changes\n",
    "summary_data$Expected_Count = exp(summary_data$Log_Expected_Count_Intercept)\n",
    "summary_data$Fold_Change = exp(summary_data$Coefficient)\n",
    "\n",
    "row.names(summary_data) <- NULL\n",
    "\n",
    "# Print the summary table\n",
    "print(summary_data)"
   ],
   "id": "38a71ac0-8d5d-4c38-aa96-8d1a28c9cec4"
  },
  {
   "cell_type": "markdown",
   "metadata": {},
   "source": [
    "TBD. Finish the unsupervised visualisations. Interpret the results here. Calculate overdispersion. visualise models? Think about negative binomial model.\n",
    "\n",
    "## References\n",
    "\n",
    "Dunvald, Ann-Cathrine Dalgård, Erkka Järvinen, Christina Mortensen, and Tore B. Stage. n.d. “Clinical and Molecular Perspectives on Inflammation-Mediated Regulation of Drug Metabolism and Transport.” *Clinical Pharmacology & Therapeutics* n/a (n/a). <https://doi.org/10.1002/cpt.2432>.\n",
    "\n",
    "Ingelman-Sundberg, Magnus, and Volker M. Lauschke. n.d. “3D Human Liver Spheroids for Translational Pharmacology and Toxicology.” *Basic & Clinical Pharmacology & Toxicology* n/a (n/a). <https://doi.org/10.1111/bcpt.13587>.\n",
    "\n",
    "Kim, Hyun Ok, Han-Soo Kim, Jong-Chan Youn, Eui-Cheol Shin, and Sungha Park. 2011. “Serum Cytokine Profiles in Healthy Young and Elderly Population Assessed Using Multiplexed Bead-Based Immunoassays.” *Journal of Translational Medicine* 9 (1): 113. <https://doi.org/10.1186/1479-5876-9-113>.\n",
    "\n",
    "Kleiner, Giulio, Annalisa Marcuzzi, Valentina Zanin, Lorenzo Monasta, and Giorgio Zauli. 2013. “Cytokine Levels in the Serum of Healthy Subjects.” *Mediators of Inflammation* 2013: 1–6. <https://doi.org/10.1155/2013/434010>."
   ],
   "id": "e3454dd3-c5b9-4257-b0fd-35995846bbd6"
  }
 ],
 "nbformat": 4,
 "nbformat_minor": 5,
 "metadata": {}
}
