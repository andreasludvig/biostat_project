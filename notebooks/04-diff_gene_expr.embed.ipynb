{
 "cells": [
  {
   "cell_type": "markdown",
   "metadata": {},
   "source": [
    "# Differentiel gene expression\n",
    "\n",
    "Andreas Svendsen"
   ],
   "id": "e6ec520f-7424-40d4-8fb4-fe0d4f1a1d05"
  },
  {
   "cell_type": "code",
   "execution_count": null,
   "metadata": {},
   "outputs": [],
   "source": [
    "library(data.table)\n",
    "library(limma)\n",
    "library(edgeR)\n",
    "library(broom)"
   ],
   "id": "de07c4c8-6ead-464c-bd4c-7036da706982"
  },
  {
   "cell_type": "markdown",
   "metadata": {},
   "source": [
    "For this project we will just look at the CYP enzymes in the dataset\n",
    "\n",
    "Import the filtered and normalised data"
   ],
   "id": "1ea9b823-4eab-4304-9dc7-7592a0b94f59"
  },
  {
   "cell_type": "code",
   "execution_count": null,
   "metadata": {},
   "outputs": [],
   "source": [
    "dge_data_norm <- readRDS(\"outputs/data_processed/dge_data_norm.rds\")"
   ],
   "id": "27b7177a-7e9d-4ba0-ab3c-8b8b1ff1a3d2"
  },
  {
   "cell_type": "code",
   "execution_count": null,
   "metadata": {},
   "outputs": [
    {
     "output_type": "stream",
     "name": "stdout",
     "text": [
      "An object of class \"DGEList\"\n",
      "$counts\n",
      "          S1     S2     S5     S6     S7     S8    S11    S12    S13    S14\n",
      "10537 244845 249729 199006 425694  91101  74426 204959 153888  37562  24714\n",
      "3275  145411 139719 130302 270922 153799 100256 166322 139129 139223 131577\n",
      "7606  114762 117381  97862 216134  71868  53548  98347  78604  59463  52498\n",
      "7973   70586  83376  68178 143783  76489  51577  78570  56730  38888  33020\n",
      "17385  49761  56129  41159  82353  10675   8117  50186  41031  40425  36299\n",
      "         S15    S16   S17    S18    S19    S20\n",
      "10537 802526 883195 61170  88579 436836 166170\n",
      "3275  245926 250821 74993 129204 326703 116288\n",
      "7606  173919 186999 28389  46772 204208  70775\n",
      "7973   76718  73618 24882  43597 165762  55073\n",
      "17385 129983 146769  5595   8262 113872  42412\n",
      "42 more rows ...\n",
      "\n",
      "$samples\n",
      "   group lib.size norm.factors       treatment sample_name replicate\n",
      "S1     1   802098    0.9784508 Vehicle_control    AS0018_1         1\n",
      "S2     1   844460    1.0028307 Vehicle_control    AS0018_2         2\n",
      "S5     2   684779    0.9865491   01_ng_ml_IL_6    AS0018_5         1\n",
      "S6     2  1454659    0.9878487   01_ng_ml_IL_6    AS0018_6         2\n",
      "S7     3   567988    0.9016617   10_ng_ml_IL_6    AS0018_7         1\n",
      "   group_color\n",
      "S1     #000000\n",
      "S2     #000000\n",
      "S5     #A6CEE3\n",
      "S6     #A6CEE3\n",
      "S7     #1F78B4\n",
      "11 more rows ...\n",
      "\n",
      "$genes\n",
      "          ENSEMBLE_ID symbol              id_symbol\n",
      "10537 ENSG00000160868 CYP3A4 ENSG00000160868;CYP3A4\n",
      "3275  ENSG00000106258 CYP3A5 ENSG00000106258;CYP3A5\n",
      "7606  ENSG00000138109 CYP2C9 ENSG00000138109;CYP2C9\n",
      "7973  ENSG00000140505 CYP1A2 ENSG00000140505;CYP1A2\n",
      "17385 ENSG00000197408 CYP2B6 ENSG00000197408;CYP2B6\n",
      "42 more rows ..."
     ]
    }
   ],
   "source": [
    "keep_indices <- grep(\"^CYP\", dge_data_norm$genes$symbol)\n",
    "\n",
    "cyp_data <- dge_data_norm[keep_indices, keep.lib.sizes = FALSE]\n",
    "cyp_data"
   ],
   "id": "4a957d29-50fa-41a1-a910-418fa9279b39"
  },
  {
   "cell_type": "markdown",
   "metadata": {},
   "source": [
    "When using the basic poisson regression model we assume that counts are poisson distribted with a mean equal to the variance. This model does not inherently account for library size or composition effect."
   ],
   "id": "3464b4f0-47c8-432c-a460-0703d8793fbb"
  },
  {
   "cell_type": "code",
   "execution_count": null,
   "metadata": {},
   "outputs": [],
   "source": [
    "# cyp_data is the subset of genes we want to investigate\n",
    "counts <- cyp_data$counts\n",
    "genes <- rownames(counts)\n",
    "samples <- colnames(counts)\n",
    "\n",
    "# Creating a long-format data frame\n",
    "data_long <- data.frame(gene = rep(genes, each = length(samples)),\n",
    "                        sample = rep(samples, times = length(genes)),\n",
    "                        count = as.vector(counts),\n",
    "                        treatment = cyp_data$samples$treatment) "
   ],
   "id": "063320bd-67d1-434d-a6b0-3414889c6623"
  },
  {
   "cell_type": "code",
   "execution_count": null,
   "metadata": {},
   "outputs": [],
   "source": [
    "# Select the first gene\n",
    "first_gene <- unique(data_long$gene)[1]\n",
    "first_gene_data <- subset(data_long, gene == first_gene)\n",
    "\n",
    "# For each cytokine treatment, create a binary variable that is 1 for that specific cytokine treatment and 0 for the vehicle control.\n",
    "\n",
    "first_gene_data$treatment_IL_6_01_ng_ml <- as.numeric(first_gene_data$treatment == \"01_ng_ml_IL_6\")\n",
    "first_gene_data$treatment_IL_6_10_ng_ml <- as.numeric(first_gene_data$treatment == \"10_ng_ml_IL_6\")\n",
    "first_gene_data$treatment_IL_1B_01_ng_ml <- as.numeric(first_gene_data$treatment == \"01_ng_ml_IL_1B\")\n",
    "first_gene_data$treatment_IL_1B_10_ng_ml <- as.numeric(first_gene_data$treatment == \"10_ng_ml_IL_1B\")"
   ],
   "id": "97f847d0-b708-4ebe-a5fa-eae578a45358"
  },
  {
   "cell_type": "code",
   "execution_count": null,
   "metadata": {},
   "outputs": [],
   "source": [
    "# Poisson models for each cytokine treatment\n",
    "poisson_model_IL_6_01_ng_ml <- glm(count ~ treatment_IL_6_01_ng_ml, family = poisson(), data = first_gene_data)\n",
    "poisson_model_IL_6_10_ng_ml <- glm(count ~ treatment_IL_6_10_ng_ml, family = poisson(), data = first_gene_data)\n",
    "poisson_model_IL_1B_01_ng_ml <- glm(count ~ treatment_IL_1B_01_ng_ml, family = poisson(), data = first_gene_data)\n",
    "poisson_model_IL_1B_10_ng_ml <- glm(count ~ treatment_IL_1B_10_ng_ml, family = poisson(), data = first_gene_data)"
   ],
   "id": "7a4a9f85-45fc-40e1-83a2-c97e0bc27710"
  },
  {
   "cell_type": "code",
   "execution_count": null,
   "metadata": {},
   "outputs": [
    {
     "output_type": "stream",
     "name": "stdout",
     "text": [
      "\n",
      "Call:\n",
      "glm(formula = count ~ treatment_IL_6_01_ng_ml, family = poisson(), \n",
      "    data = first_gene_data)\n",
      "\n",
      "Coefficients:\n",
      "                         Estimate Std. Error z value Pr(>|z|)    \n",
      "(Intercept)             10.669258   0.001289    8279   <2e-16 ***\n",
      "treatment_IL_6_01_ng_ml  0.767586   0.002656     289   <2e-16 ***\n",
      "---\n",
      "Signif. codes:  0 '***' 0.001 '**' 0.01 '*' 0.05 '.' 0.1 ' ' 1\n",
      "\n",
      "(Dispersion parameter for poisson family taken to be 1)\n",
      "\n",
      "    Null deviance: 1016536  on 15  degrees of freedom\n",
      "Residual deviance:  944330  on 14  degrees of freedom\n",
      "AIC: 944524\n",
      "\n",
      "Number of Fisher Scoring iterations: 6"
     ]
    },
    {
     "output_type": "stream",
     "name": "stdout",
     "text": [
      "\n",
      "Call:\n",
      "glm(formula = count ~ treatment_IL_6_10_ng_ml, family = poisson(), \n",
      "    data = first_gene_data)\n",
      "\n",
      "Coefficients:\n",
      "                         Estimate Std. Error z value Pr(>|z|)    \n",
      "(Intercept)             10.835898   0.001186 9139.33   <2e-16 ***\n",
      "treatment_IL_6_10_ng_ml -0.288519   0.003813  -75.67   <2e-16 ***\n",
      "---\n",
      "Signif. codes:  0 '***' 0.001 '**' 0.01 '*' 0.05 '.' 0.1 ' ' 1\n",
      "\n",
      "(Dispersion parameter for poisson family taken to be 1)\n",
      "\n",
      "    Null deviance: 1016536  on 15  degrees of freedom\n",
      "Residual deviance: 1010347  on 14  degrees of freedom\n",
      "AIC: 1010541\n",
      "\n",
      "Number of Fisher Scoring iterations: 6"
     ]
    },
    {
     "output_type": "stream",
     "name": "stdout",
     "text": [
      "\n",
      "Call:\n",
      "glm(formula = count ~ treatment_IL_1B_01_ng_ml, family = poisson(), \n",
      "    data = first_gene_data)\n",
      "\n",
      "Coefficients:\n",
      "                          Estimate Std. Error z value Pr(>|z|)    \n",
      "(Intercept)              10.878530   0.001161  9373.5   <2e-16 ***\n",
      "treatment_IL_1B_01_ng_ml -0.853444   0.004846  -176.1   <2e-16 ***\n",
      "---\n",
      "Signif. codes:  0 '***' 0.001 '**' 0.01 '*' 0.05 '.' 0.1 ' ' 1\n",
      "\n",
      "(Dispersion parameter for poisson family taken to be 1)\n",
      "\n",
      "    Null deviance: 1016536  on 15  degrees of freedom\n",
      "Residual deviance:  976359  on 14  degrees of freedom\n",
      "AIC: 976553\n",
      "\n",
      "Number of Fisher Scoring iterations: 5"
     ]
    },
    {
     "output_type": "stream",
     "name": "stdout",
     "text": [
      "\n",
      "Call:\n",
      "glm(formula = count ~ treatment_IL_1B_10_ng_ml, family = poisson(), \n",
      "    data = first_gene_data)\n",
      "\n",
      "Coefficients:\n",
      "                          Estimate Std. Error z value Pr(>|z|)    \n",
      "(Intercept)              10.883578   0.001158  9401.5   <2e-16 ***\n",
      "treatment_IL_1B_10_ng_ml -0.945326   0.005048  -187.3   <2e-16 ***\n",
      "---\n",
      "Signif. codes:  0 '***' 0.001 '**' 0.01 '*' 0.05 '.' 0.1 ' ' 1\n",
      "\n",
      "(Dispersion parameter for poisson family taken to be 1)\n",
      "\n",
      "    Null deviance: 1016536  on 15  degrees of freedom\n",
      "Residual deviance:  969605  on 14  degrees of freedom\n",
      "AIC: 969800\n",
      "\n",
      "Number of Fisher Scoring iterations: 5"
     ]
    }
   ],
   "source": [
    "summary(poisson_model_IL_6_01_ng_ml)"
   ],
   "id": "b11b2c0f-f523-49e6-8750-f75be9b30c29"
  },
  {
   "cell_type": "markdown",
   "metadata": {},
   "source": [
    "Creating a summary table:"
   ],
   "id": "1bb17993-addf-4222-8d75-d55f8a6db803"
  },
  {
   "cell_type": "code",
   "execution_count": null,
   "metadata": {},
   "outputs": [
    {
     "output_type": "stream",
     "name": "stdout",
     "text": [
      "       Treatment Log_Expected_Count_Intercept Coefficient P_Value\n",
      "1  IL-6 01 ng/ml                     10.66926   0.7675856       0\n",
      "2  IL-6 10 ng/ml                     10.83590  -0.2885188       0\n",
      "3 IL-1B 01 ng/ml                     10.87853  -0.8534440       0\n",
      "4 IL-1B 10 ng/ml                     10.88358  -0.9453265       0\n",
      "  Expected_Count Fold_Change\n",
      "1       43013.00   2.1545579\n",
      "2       50812.50   0.7493727\n",
      "3       53025.57   0.4259454\n",
      "4       53293.93   0.3885527"
     ]
    }
   ],
   "source": [
    "# Creating a summary data frame\n",
    "summary_data <- \n",
    "  data.frame(\n",
    "    Treatment = \n",
    "      c(\"IL-6 01 ng/ml\", \"IL-6 10 ng/ml\", \"IL-1B 01 ng/ml\", \"IL-1B 10 ng/ml\"\n",
    "        ),\n",
    "    Log_Expected_Count_Intercept = \n",
    "      c(coef(poisson_model_IL_6_01_ng_ml)[\"(Intercept)\"],\n",
    "        coef(poisson_model_IL_6_10_ng_ml)[\"(Intercept)\"],\n",
    "        coef(poisson_model_IL_1B_01_ng_ml)[\"(Intercept)\"],\n",
    "        coef(poisson_model_IL_1B_10_ng_ml)[\"(Intercept)\"]\n",
    "        ),\n",
    "    Coefficient = \n",
    "      c(coef(poisson_model_IL_6_01_ng_ml)[\"treatment_IL_6_01_ng_ml\"],\n",
    "        coef(poisson_model_IL_6_10_ng_ml)[\"treatment_IL_6_10_ng_ml\"],\n",
    "        coef(poisson_model_IL_1B_01_ng_ml)[\"treatment_IL_1B_01_ng_ml\"],\n",
    "        coef(poisson_model_IL_1B_10_ng_ml)[\"treatment_IL_1B_10_ng_ml\"]),\n",
    "    P_Value = c(summary(poisson_model_IL_6_01_ng_ml)$coefficients[\"treatment_IL_6_01_ng_ml\", \"Pr(>|z|)\"],\n",
    "                summary(poisson_model_IL_6_10_ng_ml)$coefficients[\"treatment_IL_6_10_ng_ml\", \"Pr(>|z|)\"],\n",
    "                summary(poisson_model_IL_1B_01_ng_ml)$coefficients[\"treatment_IL_1B_01_ng_ml\", \"Pr(>|z|)\"],\n",
    "                summary(poisson_model_IL_1B_10_ng_ml)$coefficients[\"treatment_IL_1B_10_ng_ml\", \"Pr(>|z|)\"]\n",
    "                )\n",
    ")\n",
    "\n",
    "# Calculating actual expected counts and fold changes\n",
    "summary_data$Expected_Count = exp(summary_data$Log_Expected_Count_Intercept)\n",
    "summary_data$Fold_Change = exp(summary_data$Coefficient)\n",
    "\n",
    "row.names(summary_data) <- NULL\n",
    "\n",
    "# Print the summary table\n",
    "print(summary_data)"
   ],
   "id": "7b533e9a-a8db-49b9-9400-901127f6e19d"
  },
  {
   "cell_type": "markdown",
   "metadata": {},
   "source": [],
   "id": "6bfb684f-6a69-4c11-9362-b50a5ff64ed8"
  }
 ],
 "nbformat": 4,
 "nbformat_minor": 5,
 "metadata": {}
}
