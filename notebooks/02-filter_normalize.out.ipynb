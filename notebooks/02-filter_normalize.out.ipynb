{
 "cells": [
  {
   "cell_type": "markdown",
   "metadata": {},
   "source": [
    "# Filter lowly expressed genes and TMM normalize\n",
    "\n",
    "Andreas Svendsen"
   ],
   "id": "c9a7aa9e-42be-4735-aef0-6f5a9e017904"
  },
  {
   "cell_type": "code",
   "execution_count": null,
   "metadata": {},
   "outputs": [
    {
     "output_type": "stream",
     "name": "stderr",
     "text": [
      "here() starts at C:/Users/alosvendsen/OneDrive - Syddansk Universitet/PhD/Kurser/Biostat 2/biostat_project"
     ]
    }
   ],
   "source": [
    "library(here)\n"
   ],
   "id": "c36d29bd-e17d-4826-a150-22b7ec8699dd"
  },
  {
   "cell_type": "markdown",
   "metadata": {},
   "source": [
    "### Filtering lowly expressed and duplicate genes"
   ],
   "id": "c11849da-1374-48ef-a3a7-edd6c17fc262"
  },
  {
   "cell_type": "code",
   "execution_count": null,
   "metadata": {},
   "outputs": [],
   "source": [
    "# Load data\n",
    "dge_data <- readRDS(\"outputs/data_processed/dge_data.rds\")\n"
   ],
   "id": "08213b44-39f7-4dad-9d34-2d15b354da14"
  },
  {
   "cell_type": "markdown",
   "metadata": {},
   "source": [
    "#### Filter lowly expressed genes\n",
    "\n",
    "Many possibilities. Use the filterByExpr funtion, or filter manually, as here:"
   ],
   "id": "86ef1b07-3798-4a29-807a-9861f3bde74a"
  },
  {
   "cell_type": "code",
   "execution_count": null,
   "metadata": {},
   "outputs": [
    {
     "output_type": "stream",
     "name": "stdout",
     "text": [
      "keep\n",
      "FALSE  TRUE \n",
      "49098 13612 "
     ]
    }
   ],
   "source": [
    "keep <-\n",
    "  rowSums(cpm(dge_data) > 1) >= 2 # More than 1 CPM in at least 2 samples\n",
    "\n",
    "table(keep)\n"
   ],
   "id": "0de7d3b7-868d-4efd-a8b6-382eac7543d2"
  },
  {
   "cell_type": "markdown",
   "metadata": {},
   "source": [
    "Subset data by the logical vector"
   ],
   "id": "45730efe-e821-42be-8929-9bb8e9523d73"
  },
  {
   "cell_type": "code",
   "execution_count": null,
   "metadata": {},
   "outputs": [],
   "source": [
    "# Subset data by the logical vector\n",
    "dge_data_filtered <- dge_data[keep, keep.lib.sizes = FALSE]\n",
    "# keep.lib.sizes = FALSE, recomputes lib.sizes as number of rows changes.\n"
   ],
   "id": "2ab6b567-a93f-43d0-9d12-0de25156b979"
  },
  {
   "cell_type": "markdown",
   "metadata": {},
   "source": [
    "Filter duplicates\n",
    "\n",
    "Keeping only the duplicated gene with the highest transcript! Get total number of reads of each gene in all samples, order decreasing order. Order them so the highest transcripted duplicate is kept."
   ],
   "id": "955a0eb0-d7d1-4185-9353-afacf8c1d4cc"
  },
  {
   "cell_type": "code",
   "execution_count": null,
   "metadata": {},
   "outputs": [],
   "source": [
    "count_sums_ordered <-\n",
    "  order(rowSums(dge_data_filtered$counts), decreasing = TRUE)\n"
   ],
   "id": "5bb7e653-567c-4b58-8f67-e6468056b897"
  },
  {
   "cell_type": "markdown",
   "metadata": {},
   "source": [
    "This object now contains an integer vector containing the indicies of each gene in descending order of the total numer og counts in all the samples.\n",
    "\n",
    "Use this vector to order the data in descending order based on number of counts"
   ],
   "id": "9a867d8f-b4de-422d-b19b-b997169490eb"
  },
  {
   "cell_type": "code",
   "execution_count": null,
   "metadata": {},
   "outputs": [],
   "source": [
    "dge_data_filtered <- dge_data_filtered[count_sums_ordered, ]\n"
   ],
   "id": "bd5877e9-5bea-4465-ae12-0a365fd8c443"
  },
  {
   "cell_type": "markdown",
   "metadata": {},
   "source": [
    "Check for duplicate genes"
   ],
   "id": "84d45bd8-9b25-4329-b7c1-6c5f042d1b7a"
  },
  {
   "cell_type": "code",
   "execution_count": null,
   "metadata": {},
   "outputs": [
    {
     "output_type": "stream",
     "name": "stdout",
     "text": [
      "[1] 2"
     ]
    }
   ],
   "source": [
    "duplicates <- duplicated(dge_data_filtered$genes$symbol)\n",
    "sum(duplicates) # Yields two duplicates.\n"
   ],
   "id": "a3c6d558-7e99-41d3-97b3-04060a548477"
  },
  {
   "cell_type": "markdown",
   "metadata": {},
   "source": [
    "View the duplicates"
   ],
   "id": "6aab52ac-79d4-4f1c-981f-24cb37d44c92"
  },
  {
   "cell_type": "code",
   "execution_count": null,
   "metadata": {},
   "outputs": [
    {
     "output_type": "stream",
     "name": "stdout",
     "text": [
      "          ENSEMBLE_ID   symbol                id_symbol\n",
      "62473 ENSG00000291072  CROCCP2  ENSG00000291072;CROCCP2\n",
      "23239 ENSG00000215908  CROCCP2  ENSG00000215908;CROCCP2\n",
      "35431 ENSG00000240356 RPL23AP7 ENSG00000240356;RPL23AP7\n",
      "62465 ENSG00000291064 RPL23AP7 ENSG00000291064;RPL23AP7"
     ]
    }
   ],
   "source": [
    "duplicates_symbols <- dge_data_filtered$genes[duplicates, \"symbol\"]\n",
    "dge_data_filtered$genes[dge_data_filtered$genes$symbol %in% duplicates_symbols, ]\n"
   ],
   "id": "1a10c129-60a3-4b34-903e-c4059ff7f3ff"
  },
  {
   "cell_type": "markdown",
   "metadata": {},
   "source": [
    "If any duplicates remove them with:"
   ],
   "id": "fd472b33-f870-466d-a3c1-809051ff2287"
  },
  {
   "cell_type": "code",
   "execution_count": null,
   "metadata": {},
   "outputs": [],
   "source": [
    "dge_data_filtered <-\n",
    "  dge_data_filtered[!duplicates, , keep.lib.sizes = FALSE]\n"
   ],
   "id": "f3bbfb6b-8c54-4078-8daa-99e0e959ee62"
  },
  {
   "cell_type": "markdown",
   "metadata": {},
   "source": [
    "### TMM normalization\n",
    "\n",
    "The normalization DOES NOT change the raw count values, but provides scaling factors that are used in subsequent analyses to adjust for library size and compositional differences."
   ],
   "id": "0fbeaa49-9177-4510-8aeb-c1ec84e52de3"
  },
  {
   "cell_type": "code",
   "execution_count": null,
   "metadata": {},
   "outputs": [],
   "source": [
    "dge_data_norm <- normLibSizes(dge_data_filtered, method = \"TMM\")\n"
   ],
   "id": "be7a95d6-e2ba-45cd-a400-a3ba3f4dcb39"
  },
  {
   "cell_type": "markdown",
   "metadata": {},
   "source": [
    "Inspect normalisation factors"
   ],
   "id": "7819698d-c754-4483-b38c-31bdca364b97"
  },
  {
   "cell_type": "code",
   "execution_count": null,
   "metadata": {},
   "outputs": [
    {
     "output_type": "stream",
     "name": "stdout",
     "text": [
      " [1] 0.9784508 1.0028307 0.9865491 0.9878487 0.9016617 0.9046796 1.0010002\n",
      " [8] 1.0397491 1.0331277 1.0596380 0.9942724 0.9912140 1.0179186 1.0618761\n",
      "[15] 1.0235744 1.0318880"
     ]
    }
   ],
   "source": [
    "dge_data_norm$samples$norm.factors\n"
   ],
   "id": "c2f4a0fa-d3cd-4d71-be20-4ac5b176dfc2"
  },
  {
   "cell_type": "markdown",
   "metadata": {},
   "source": [
    "#### Visualize data after normalization\n",
    "\n",
    "Create logCPM matrices with both normalized and non-normalized libraries. By default cpm() uses lib size norm factors if presenst in DGEList."
   ],
   "id": "6827d72e-4a2c-4348-a439-ba776b8766bb"
  },
  {
   "cell_type": "code",
   "execution_count": null,
   "metadata": {},
   "outputs": [
    {
     "output_type": "stream",
     "name": "stdout",
     "text": [
      "            S1       S2       S5       S6       S7       S8      S11      S12\n",
      "11069 16.47382 16.42465 16.45584 16.50192 15.08121 15.17085 16.21492 16.15015\n",
      "17851 14.64432 14.47638 14.51025 14.56301 14.29800 14.42634 14.65385 14.47892\n",
      "17336 13.54397 13.47746 13.57257 13.57304 15.28153 15.14676 13.76202 13.66599\n",
      "17900 13.84504 13.73219 13.78835 13.81237 13.63511 13.67906 13.88106 13.62050\n",
      "21399 13.90906 13.78777 13.92227 13.84408 13.68750 13.61888 13.77828 13.69885\n",
      "17810 13.72859 13.68942 13.65477 13.60761 13.39235 13.51075 13.66887 13.56601\n",
      "           S13      S14      S15      S16      S17      S18      S19      S20\n",
      "11069 15.56477 15.41336 16.16742 16.14900 15.39813 15.39794 16.42623 16.38937\n",
      "17851 14.72547 14.62170 14.56802 14.51735 15.20503 15.24215 14.48232 14.40512\n",
      "17336 14.21048 14.11383 13.35491 13.41233 12.79757 12.72375 13.42062 13.33509\n",
      "17900 14.09625 14.03945 13.76464 13.74038 14.39668 14.44148 13.77377 13.74587\n",
      "21399 13.78843 13.91913 13.66965 13.64738 14.67082 14.49331 13.56968 13.58071\n",
      "17810 13.83681 13.73694 13.53940 13.54934 14.34542 14.27177 13.56227 13.53703"
     ]
    },
    {
     "output_type": "stream",
     "name": "stdout",
     "text": [
      "            S1       S2       S5       S6       S7       S8      S11      S12\n",
      "11069 16.50525 16.42057 16.47538 16.51956 15.23055 15.31537 16.21348 16.09392\n",
      "17851 14.67575 14.47230 14.52979 14.58064 14.44734 14.57086 14.65241 14.42269\n",
      "17336 13.57540 13.47338 13.59210 13.59068 15.43087 15.29128 13.76058 13.60975\n",
      "17900 13.87647 13.72811 13.80788 13.83001 13.78445 13.82358 13.87961 13.56426\n",
      "21399 13.94049 13.78369 13.94181 13.86172 13.83684 13.76340 13.77683 13.64261\n",
      "17810 13.76002 13.68534 13.67431 13.62525 13.54170 13.65527 13.66743 13.50978\n",
      "           S13      S14      S15      S16      S17      S18      S19      S20\n",
      "11069 15.51775 15.32979 16.17571 16.16173 15.37251 15.31132 16.39261 16.34408\n",
      "17851 14.67845 14.53813 14.57631 14.53008 15.17940 15.15553 14.44871 14.35984\n",
      "17336 14.16346 14.03026 13.36320 13.42506 12.77194 12.63714 13.38701 13.28981\n",
      "17900 14.04924 13.95588 13.77292 13.75311 14.37106 14.35486 13.74015 13.70059\n",
      "21399 13.74142 13.83555 13.67794 13.66011 14.64519 14.40670 13.53607 13.53543\n",
      "17810 13.78980 13.65337 13.54768 13.56207 14.31980 14.18515 13.52865 13.49174"
     ]
    }
   ],
   "source": [
    "logcpm_before <- cpm(dge_data_filtered, log = TRUE, prior.count = 2)\n",
    "head(logcpm_before)\n"
   ],
   "id": "f6209292-e664-48f4-bce1-655835faa507"
  },
  {
   "cell_type": "code",
   "execution_count": null,
   "metadata": {},
   "outputs": [
    {
     "output_type": "display_data",
     "metadata": {},
     "data": {
      "image/png": "[encoded data removed]"
     }
    }
   ],
   "source": [
    "# Convert matrices to data.tables\n",
    "dt_before <- as.data.table(logcpm_before)\n",
    "dt_after <- as.data.table(logcpm_after)\n",
    "# Melt the data.tables and add a 'state' column\n",
    "dt_before <-\n",
    "  melt(dt_before,\n",
    "       measure.vars = colnames(logcpm_before),\n",
    "       variable.name = \"Sample\",\n",
    "       value.name = \"Log2_CPM\"\n",
    "  )\n",
    "dt_before[, state := \"Before Normalization\"]\n",
    "\n",
    "dt_after <-\n",
    "  melt(dt_after,\n",
    "       measure.vars = colnames(logcpm_after),\n",
    "       variable.name = \"Sample\",\n",
    "       value.name = \"Log2_CPM\"\n",
    "  )\n",
    "dt_after[, state := \"After Normalization\"]\n",
    "\n",
    "# Combine the two data.tables\n",
    "combined_dt <- rbind(dt_before, dt_after)\n",
    "\n",
    "# Boxplots using ggplot2\n",
    "p <- ggplot(combined_dt, aes(x = Sample, y = Log2_CPM)) +\n",
    "  geom_boxplot() +\n",
    "  labs(y = \"Log2 CPM\") +\n",
    "  theme(axis.text.x = element_text(angle = 45, hjust = 1)) +\n",
    "  facet_wrap(\n",
    "    ~ factor(\n",
    "      combined_dt$state,\n",
    "      levels = c(\"Before Normalization\", \"After Normalization\")\n",
    "    ),\n",
    "    scales = \"free_y\"\n",
    "  )\n",
    "\n",
    "p\n"
   ],
   "id": "86fc0416-6341-4ed2-9c3e-971326b1c28b"
  },
  {
   "cell_type": "markdown",
   "metadata": {},
   "source": [
    "### Save the filtered and normalized data"
   ],
   "id": "62fc4b43-5cda-4d29-beb6-34f808eb4daf"
  },
  {
   "cell_type": "code",
   "execution_count": null,
   "metadata": {},
   "outputs": [],
   "source": [
    "# saveRDS(dge_data_norm, file = \"outputs/data_processed/dge_data_norm.rds\")\n"
   ],
   "id": "4f2d3e67-7868-4c86-ae50-bf829eb533fb"
  },
  {
   "cell_type": "markdown",
   "metadata": {},
   "source": [
    "### Normalization\n",
    "\n",
    "Normalization is crucial to account for technical biases and ensure that the counts are comparable across samples. Factors like sequencing depth, RNA composition, and library preparation can introduce variations that are not related to the underlying biology. Normalizing the data corrects for these factors.\n",
    "\n",
    "The TMM (Trimmed Mean of M-values) normalization method is a popular choice in the edgeR package for RNA-seq count data. It helps adjust for compositional differences between libraries (samples). In essence, TMM aims to make the count distributions as similar as possible across samples, so that differences in counts can be attributed to genuine differential expression rather than technical biases.\n",
    "\n",
    "RNA-seq data can be influenced by various factors, some of which are technical in nature. For example, differences in sequencing depth between samples can result in different total read counts. Another common issue is the presence of highly expressed genes that can dominate the total read count in a sample, thereby overshadowing other genes. The idea behind normalization is to adjust for these factors, so that the count data from different samples can be compared directly.\n",
    "\n",
    "#### What is TMM trying to address?\n",
    "\n",
    "When comparing two samples, if one gene is highly expressed in one sample compared to the other, it will “consume” a larger fraction of the total sequencing depth. This can create an illusion that other genes are downregulated in that sample, even if their absolute expression levels haven’t changed. This phenomenon is known as the “compositional difference.”"
   ],
   "id": "70e39a65-6e89-43cb-8c6d-fcab3db95078"
  }
 ],
 "nbformat": 4,
 "nbformat_minor": 5,
 "metadata": {}
}
