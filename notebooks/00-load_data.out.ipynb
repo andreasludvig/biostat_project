{
 "cells": [
  {
   "cell_type": "markdown",
   "metadata": {},
   "source": [
    "# Load, tidy and save data\n",
    "\n",
    "Andreas Svendsen\n",
    "\n",
    "Preamble\n",
    "\n",
    "Load our count matrix, gene annotation, and sample information. - Tidy the data - Create our DGEList object. Save this processed data in the output data folder\n",
    "\n",
    "#### Libraries"
   ],
   "id": "b9fb55da-7a44-49c4-9de1-c74fc2f37112"
  },
  {
   "cell_type": "code",
   "execution_count": null,
   "metadata": {},
   "outputs": [],
   "source": [
    "library(data.table)\n",
    "library(RColorBrewer)\n",
    "library(limma)\n",
    "library(edgeR)\n"
   ],
   "id": "e057abd2-324f-440d-a6e0-e60803ec5da2"
  },
  {
   "cell_type": "markdown",
   "metadata": {},
   "source": [
    "#### Load data"
   ],
   "id": "0505935d-66da-479b-9152-c945d79a0968"
  },
  {
   "cell_type": "code",
   "execution_count": null,
   "metadata": {},
   "outputs": [
    {
     "output_type": "stream",
     "name": "stdout",
     "text": [
      "         S1   S2   S5   S6   S7   S8  S11  S12  S13  S14  S15  S16 S17  S18\n",
      "    1: 1327 1322 1105 2569 2696 1513 1597 1107 1681 1751 1709 1447 944 1324\n",
      "    2:    0    0    0    2    0    2    0    0    1    0    0    0   1    0\n",
      "    3:  545  607  478 1041  694  480  644  530  620  583  866  933 569  843\n",
      "    4:  414  482  351  778  786  529  443  429  689  684  544  544 190  411\n",
      "    5:   73   49   42  117  116   83   73   53   79  118   84   93  34   65\n",
      "   ---                                                                     \n",
      "62706:    0    0    0    0    0    0    0    0    0    0    0    0   0    0\n",
      "62707:    0    0    0    0    0    0    0    0    0    0    0    0   0    0\n",
      "62708:    0    0    0    0    0    0    0    0    0    0    0    0   0    0\n",
      "62709:    6   27    6   10   11    2    8    4    6    3   14    4  14   20\n",
      "62710:    0    6    1    6   12    5    2    5    3    9    8   10   1    6\n",
      "        S19  S20\n",
      "    1: 3266 1193\n",
      "    2:    8    1\n",
      "    3: 1509  587\n",
      "    4:  820  293\n",
      "    5:  108   55\n",
      "   ---          \n",
      "62706:    0    0\n",
      "62707:    0    0\n",
      "62708:    0    0\n",
      "62709:    8    6\n",
      "62710:   12   10"
     ]
    },
    {
     "output_type": "stream",
     "name": "stdout",
     "text": [
      "          treatment sample_name replicate group\n",
      " 1: Vehicle_control    AS0018_1         1     1\n",
      " 2: Vehicle_control    AS0018_2         2     1\n",
      " 3:   01_ng_ml_IL_6    AS0018_5         1     2\n",
      " 4:   01_ng_ml_IL_6    AS0018_6         2     2\n",
      " 5:   10_ng_ml_IL_6    AS0018_7         1     3\n",
      " 6:   10_ng_ml_IL_6    AS0018_8         2     3\n",
      " 7:  01_ng_ml_IL_1B   AS0018_11         1     4\n",
      " 8:  01_ng_ml_IL_1B   AS0018_12         2     4\n",
      " 9:  10_ng_ml_IL_1B   AS0018_13         1     5\n",
      "10:  10_ng_ml_IL_1B   AS0018_14         2     5\n",
      "11:             Rif   AS0018_15         1     6\n",
      "12:             Rif   AS0018_16         2     6\n",
      "13:             Abe   AS0018_17         1     7\n",
      "14:             Abe   AS0018_18         2     7\n",
      "15:          Medium   AS0018_19         1     8\n",
      "16:          Medium   AS0018_20         2     8"
     ]
    },
    {
     "output_type": "stream",
     "name": "stdout",
     "text": [
      "           ENSEMBLE_ID          symbol\n",
      "    1: ENSG00000000003          TSPAN6\n",
      "    2: ENSG00000000005            TNMD\n",
      "    3: ENSG00000000419            DPM1\n",
      "    4: ENSG00000000457           SCYL3\n",
      "    5: ENSG00000000460        C1orf112\n",
      "   ---                                \n",
      "62706: ENSG00000291313 ENSG00000291313\n",
      "62707: ENSG00000291314 ENSG00000291314\n",
      "62708: ENSG00000291315 ENSG00000291315\n",
      "62709: ENSG00000291316 ENSG00000291316\n",
      "62710: ENSG00000291317         TMEM276"
     ]
    }
   ],
   "source": [
    "# Load the count expression matrix. Rows represents genes, and columns samples.\n",
    "\n",
    "expression_raw <- fread(\"inputs/data_raw/expression.txt\")\n",
    "expression_raw\n"
   ],
   "id": "99e391f2-35d6-49a2-8977-a180152bfdfc"
  },
  {
   "cell_type": "markdown",
   "metadata": {},
   "source": [
    "#### Tidy data"
   ],
   "id": "6e4dc452-67fc-4b69-a1e7-590aa8a6f327"
  },
  {
   "cell_type": "code",
   "execution_count": null,
   "metadata": {},
   "outputs": [
    {
     "output_type": "stream",
     "name": "stdout",
     "text": [
      "[1] \"#000000\" \"#A6CEE3\" \"#1F78B4\" \"#B2DF8A\" \"#33A02C\" \"#FB9A99\" \"#E31A1C\"\n",
      "[8] \"#FDBF6F\""
     ]
    },
    {
     "output_type": "stream",
     "name": "stdout",
     "text": [
      "Vehicle_control   01_ng_ml_IL_6   10_ng_ml_IL_6  01_ng_ml_IL_1B  10_ng_ml_IL_1B \n",
      "      \"#000000\"       \"#A6CEE3\"       \"#1F78B4\"       \"#B2DF8A\"       \"#33A02C\" \n",
      "            Rif             Abe          Medium \n",
      "      \"#FB9A99\"       \"#E31A1C\"       \"#FDBF6F\" "
     ]
    },
    {
     "output_type": "stream",
     "name": "stdout",
     "text": [
      "          treatment sample_name replicate group group_color\n",
      " 1: Vehicle_control    AS0018_1         1     1     #000000\n",
      " 2: Vehicle_control    AS0018_2         2     1     #000000\n",
      " 3:   01_ng_ml_IL_6    AS0018_5         1     2     #A6CEE3\n",
      " 4:   01_ng_ml_IL_6    AS0018_6         2     2     #A6CEE3\n",
      " 5:   10_ng_ml_IL_6    AS0018_7         1     3     #1F78B4\n",
      " 6:   10_ng_ml_IL_6    AS0018_8         2     3     #1F78B4\n",
      " 7:  01_ng_ml_IL_1B   AS0018_11         1     4     #B2DF8A\n",
      " 8:  01_ng_ml_IL_1B   AS0018_12         2     4     #B2DF8A\n",
      " 9:  10_ng_ml_IL_1B   AS0018_13         1     5     #33A02C\n",
      "10:  10_ng_ml_IL_1B   AS0018_14         2     5     #33A02C\n",
      "11:             Rif   AS0018_15         1     6     #FB9A99\n",
      "12:             Rif   AS0018_16         2     6     #FB9A99\n",
      "13:             Abe   AS0018_17         1     7     #E31A1C\n",
      "14:             Abe   AS0018_18         2     7     #E31A1C\n",
      "15:          Medium   AS0018_19         1     8     #FDBF6F\n",
      "16:          Medium   AS0018_20         2     8     #FDBF6F"
     ]
    },
    {
     "output_type": "stream",
     "name": "stdout",
     "text": [
      "Classes 'data.table' and 'data.frame':  16 obs. of  5 variables:\n",
      " $ treatment  : Factor w/ 8 levels \"Vehicle_control\",..: 1 1 2 2 3 3 4 4 5 5 ...\n",
      " $ sample_name: chr  \"AS0018_1\" \"AS0018_2\" \"AS0018_5\" \"AS0018_6\" ...\n",
      " $ replicate  : int  1 2 1 2 1 2 1 2 1 2 ...\n",
      " $ group      : Factor w/ 8 levels \"1\",\"2\",\"3\",\"4\",..: 1 1 2 2 3 3 4 4 5 5 ...\n",
      " $ group_color: Factor w/ 8 levels \"#000000\",\"#A6CEE3\",..: 1 1 2 2 3 3 4 4 5 5 ...\n",
      " - attr(*, \".internal.selfref\")=<externalptr> "
     ]
    },
    {
     "output_type": "stream",
     "name": "stdout",
     "text": [
      "           ENSEMBLE_ID          symbol                       id_symbol\n",
      "    1: ENSG00000000003          TSPAN6          ENSG00000000003;TSPAN6\n",
      "    2: ENSG00000000005            TNMD            ENSG00000000005;TNMD\n",
      "    3: ENSG00000000419            DPM1            ENSG00000000419;DPM1\n",
      "    4: ENSG00000000457           SCYL3           ENSG00000000457;SCYL3\n",
      "    5: ENSG00000000460        C1orf112        ENSG00000000460;C1orf112\n",
      "   ---                                                                \n",
      "62706: ENSG00000291313 ENSG00000291313 ENSG00000291313;ENSG00000291313\n",
      "62707: ENSG00000291314 ENSG00000291314 ENSG00000291314;ENSG00000291314\n",
      "62708: ENSG00000291315 ENSG00000291315 ENSG00000291315;ENSG00000291315\n",
      "62709: ENSG00000291316 ENSG00000291316 ENSG00000291316;ENSG00000291316\n",
      "62710: ENSG00000291317         TMEM276         ENSG00000291317;TMEM276"
     ]
    }
   ],
   "source": [
    "# Convert counts data to matrix. Mostly because of convension, but also for\n",
    "# performance reasons. However, EdgeR do allow DFs now.\n",
    "expression_raw <- as.matrix(expression_raw)\n",
    "\n",
    "# Add a color designating group _color column to the sample info\n",
    "color_scheme <-\n",
    "  brewer.pal(\n",
    "    n = length(unique(sample_info$treatment)), # n colors = unique treatments\n",
    "    name = \"Paired\" # Palette name to get the color hexadecimal number from.\n",
    "  )\n",
    "\n",
    "# Add hexidecimal for black and put first in the vector.\n",
    "color_scheme <- append(color_scheme, values = \"#000000\", after = 0)\n",
    "# Remove the last hexadecimal color code, so we are back to one color/treatment\n",
    "color_scheme <- color_scheme[-9]\n",
    "color_scheme # Looks good. 8 color codes for 8 treatments\n"
   ],
   "id": "00ea7db9-b609-4a0b-9eae-a8cc436cd9b9"
  },
  {
   "cell_type": "markdown",
   "metadata": {},
   "source": [
    "#### Create DGEList"
   ],
   "id": "41a53f41-f71b-483e-a3ea-b228908614fa"
  },
  {
   "cell_type": "code",
   "execution_count": null,
   "metadata": {},
   "outputs": [],
   "source": [
    "dge_data <- DGEList(\n",
    "  counts = expression_raw,\n",
    "  genes = annotation_info,\n",
    "  samples = sample_info\n",
    ")\n"
   ],
   "id": "041cc8aa-7948-4c2e-ab2e-f83de27669fe"
  },
  {
   "cell_type": "markdown",
   "metadata": {},
   "source": [
    "#### Save the DGEList"
   ],
   "id": "ee1ea19e-702d-422f-91d9-777f6da82004"
  },
  {
   "cell_type": "code",
   "execution_count": null,
   "metadata": {},
   "outputs": [],
   "source": [
    "saveRDS(\n",
    "  object = dge_data,\n",
    "  file = \"outputs/data_processed/dge_data.rds\"\n",
    ")\n"
   ],
   "id": "c9eb37fe-206d-499b-af1d-2be3dd9036d9"
  },
  {
   "cell_type": "code",
   "execution_count": null,
   "metadata": {},
   "outputs": [],
   "source": [
    "rm(list = ls())\n"
   ],
   "id": "26415658-0377-4932-b8d7-ddb6358f7ab6"
  }
 ],
 "nbformat": 4,
 "nbformat_minor": 5,
 "metadata": {}
}
